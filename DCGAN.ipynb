{
  "nbformat": 4,
  "nbformat_minor": 0,
  "metadata": {
    "colab": {
      "provenance": [],
      "gpuType": "T4",
      "authorship_tag": "ABX9TyOXAR5ZydBxgFieRp97qXO9",
      "include_colab_link": true
    },
    "kernelspec": {
      "name": "python3",
      "display_name": "Python 3"
    },
    "language_info": {
      "name": "python"
    }
  },
  "cells": [
    {
      "cell_type": "markdown",
      "metadata": {
        "id": "view-in-github",
        "colab_type": "text"
      },
      "source": [
        "<a href=\"https://colab.research.google.com/github/gagan-bhullar-tech/pytorch/blob/main/DCGAN.ipynb\" target=\"_parent\"><img src=\"https://colab.research.google.com/assets/colab-badge.svg\" alt=\"Open In Colab\"/></a>"
      ]
    },
    {
      "cell_type": "markdown",
      "source": [
        "## DCGAN - Deep Convolutional GANs"
      ],
      "metadata": {
        "id": "8FB3l2qOl_Bs"
      }
    },
    {
      "cell_type": "markdown",
      "source": [
        "#### Importing the libraries"
      ],
      "metadata": {
        "id": "bgwcnIGlmH9y"
      }
    },
    {
      "cell_type": "code",
      "source": [
        "import matplotlib.pyplot as plt\n",
        "import numpy as np\n",
        "import tensorflow as tf\n",
        "import tensorflow.keras as layers\n",
        "tf.__version__"
      ],
      "metadata": {
        "colab": {
          "base_uri": "https://localhost:8080/",
          "height": 35
        },
        "id": "Q1i9RKyqn2wl",
        "outputId": "079b721c-da3f-403d-bdb2-493f91f8d0ab"
      },
      "execution_count": 51,
      "outputs": [
        {
          "output_type": "execute_result",
          "data": {
            "text/plain": [
              "'2.12.0'"
            ],
            "application/vnd.google.colaboratory.intrinsic+json": {
              "type": "string"
            }
          },
          "metadata": {},
          "execution_count": 51
        }
      ]
    },
    {
      "cell_type": "markdown",
      "source": [
        "### Loading and preprocessing the dataset"
      ],
      "metadata": {
        "id": "4DplxGFBpvSF"
      }
    },
    {
      "cell_type": "code",
      "source": [
        "(X_train, y_train), (_, _) = tf.keras.datasets.mnist.load_data()"
      ],
      "metadata": {
        "id": "HxWJQm6pp4uJ"
      },
      "execution_count": 31,
      "outputs": []
    },
    {
      "cell_type": "code",
      "source": [
        "X_train.shape"
      ],
      "metadata": {
        "colab": {
          "base_uri": "https://localhost:8080/"
        },
        "id": "TVJyyQ87qEWn",
        "outputId": "e5a31775-c4e3-46f4-d7e1-a737d1bd5e61"
      },
      "execution_count": 32,
      "outputs": [
        {
          "output_type": "execute_result",
          "data": {
            "text/plain": [
              "(60000, 28, 28)"
            ]
          },
          "metadata": {},
          "execution_count": 32
        }
      ]
    },
    {
      "cell_type": "code",
      "source": [
        "y_train.shape"
      ],
      "metadata": {
        "colab": {
          "base_uri": "https://localhost:8080/"
        },
        "id": "7u-b2VlAqRjA",
        "outputId": "54c37df3-e782-47da-8e3b-ab8618056e0f"
      },
      "execution_count": 33,
      "outputs": [
        {
          "output_type": "execute_result",
          "data": {
            "text/plain": [
              "(60000,)"
            ]
          },
          "metadata": {},
          "execution_count": 33
        }
      ]
    },
    {
      "cell_type": "code",
      "source": [
        "i = np.random.randint(0, 60000)\n",
        "print(y_train[i])\n",
        "plt.imshow(X_train[i], cmap='gray')"
      ],
      "metadata": {
        "colab": {
          "base_uri": "https://localhost:8080/",
          "height": 466
        },
        "id": "1M-NTEAmro00",
        "outputId": "2f8aecbe-f60e-4b29-a070-c0d4661bb6c0"
      },
      "execution_count": 34,
      "outputs": [
        {
          "output_type": "stream",
          "name": "stdout",
          "text": [
            "6\n"
          ]
        },
        {
          "output_type": "execute_result",
          "data": {
            "text/plain": [
              "<matplotlib.image.AxesImage at 0x7c9ea1a69870>"
            ]
          },
          "metadata": {},
          "execution_count": 34
        },
        {
          "output_type": "display_data",
          "data": {
            "text/plain": [
              "<Figure size 640x480 with 1 Axes>"
            ],
            "image/png": "[encoded data removed]"
          },
          "metadata": {}
        }
      ]
    },
    {
      "cell_type": "code",
      "source": [
        "X_train = X_train.reshape(X_train.shape[0], 28, 28, 1).astype('float32')"
      ],
      "metadata": {
        "id": "9jO6EfMNsGvB"
      },
      "execution_count": 35,
      "outputs": []
    },
    {
      "cell_type": "code",
      "source": [
        "X_train.shape"
      ],
      "metadata": {
        "colab": {
          "base_uri": "https://localhost:8080/"
        },
        "id": "c9GIC1dPsZBe",
        "outputId": "07fd45b1-a959-41c5-fca3-809e87e75361"
      },
      "execution_count": 36,
      "outputs": [
        {
          "output_type": "execute_result",
          "data": {
            "text/plain": [
              "(60000, 28, 28, 1)"
            ]
          },
          "metadata": {},
          "execution_count": 36
        }
      ]
    },
    {
      "cell_type": "code",
      "source": [
        "X_train[0].min(), X_train[0].max()"
      ],
      "metadata": {
        "colab": {
          "base_uri": "https://localhost:8080/"
        },
        "id": "nwsbNyfJs-zA",
        "outputId": "4127e283-a387-4a5a-b0a5-532de771ba28"
      },
      "execution_count": 37,
      "outputs": [
        {
          "output_type": "execute_result",
          "data": {
            "text/plain": [
              "(0.0, 255.0)"
            ]
          },
          "metadata": {},
          "execution_count": 37
        }
      ]
    },
    {
      "cell_type": "code",
      "source": [
        "X_train = (X_train - 127.5) / 127.5"
      ],
      "metadata": {
        "id": "ipG0eQVttWZ7"
      },
      "execution_count": 38,
      "outputs": []
    },
    {
      "cell_type": "code",
      "source": [
        "X_train[1].min(), X_train[1].max()"
      ],
      "metadata": {
        "colab": {
          "base_uri": "https://localhost:8080/"
        },
        "id": "mgGYfekbtej_",
        "outputId": "44c265f9-919d-4505-8eff-8c8823bbf6e2"
      },
      "execution_count": 39,
      "outputs": [
        {
          "output_type": "execute_result",
          "data": {
            "text/plain": [
              "(-1.0, 1.0)"
            ]
          },
          "metadata": {},
          "execution_count": 39
        }
      ]
    },
    {
      "cell_type": "code",
      "source": [
        "buffer_size = 60000\n",
        "batch_size = 256"
      ],
      "metadata": {
        "id": "wXUsN5e9t4tv"
      },
      "execution_count": 40,
      "outputs": []
    },
    {
      "cell_type": "code",
      "source": [
        "buffer_size / batch_size"
      ],
      "metadata": {
        "colab": {
          "base_uri": "https://localhost:8080/"
        },
        "id": "MQLa9sEct_ry",
        "outputId": "7add602e-e867-43b6-bb01-001cb2e5927f"
      },
      "execution_count": 41,
      "outputs": [
        {
          "output_type": "execute_result",
          "data": {
            "text/plain": [
              "234.375"
            ]
          },
          "metadata": {},
          "execution_count": 41
        }
      ]
    },
    {
      "cell_type": "code",
      "source": [
        "type(X_train)"
      ],
      "metadata": {
        "colab": {
          "base_uri": "https://localhost:8080/"
        },
        "id": "vIkgs2TZuPLB",
        "outputId": "03b92af7-5f5c-4c30-db7c-58074ea1c769"
      },
      "execution_count": 42,
      "outputs": [
        {
          "output_type": "execute_result",
          "data": {
            "text/plain": [
              "numpy.ndarray"
            ]
          },
          "metadata": {},
          "execution_count": 42
        }
      ]
    },
    {
      "cell_type": "code",
      "source": [
        "X_train = tf.data.Dataset.from_tensor_slices(X_train).shuffle(buffer_size).batch(batch_size)"
      ],
      "metadata": {
        "id": "U1vPg0TUuSGL"
      },
      "execution_count": 43,
      "outputs": []
    },
    {
      "cell_type": "code",
      "source": [
        "type(X_train)"
      ],
      "metadata": {
        "colab": {
          "base_uri": "https://localhost:8080/"
        },
        "id": "wv0BupFbuhYW",
        "outputId": "5bcc3853-b543-4ec7-ceb1-2845111a03be"
      },
      "execution_count": 44,
      "outputs": [
        {
          "output_type": "execute_result",
          "data": {
            "text/plain": [
              "tensorflow.python.data.ops.batch_op._BatchDataset"
            ]
          },
          "metadata": {},
          "execution_count": 44
        }
      ]
    },
    {
      "cell_type": "code",
      "source": [
        "X_train"
      ],
      "metadata": {
        "colab": {
          "base_uri": "https://localhost:8080/"
        },
        "id": "gKpQlhEVuxV7",
        "outputId": "46c63e72-7484-4dc2-8ee3-97a58ee1f6f1"
      },
      "execution_count": 45,
      "outputs": [
        {
          "output_type": "execute_result",
          "data": {
            "text/plain": [
              "<_BatchDataset element_spec=TensorSpec(shape=(None, 28, 28, 1), dtype=tf.float32, name=None)>"
            ]
          },
          "metadata": {},
          "execution_count": 45
        }
      ]
    },
    {
      "cell_type": "markdown",
      "source": [
        "### Building the generator"
      ],
      "metadata": {
        "id": "TZZNRoISvWz1"
      }
    },
    {
      "cell_type": "code",
      "source": [
        "# 100 -> 12544\n",
        "import tensorflow.keras as layers\n",
        "\n",
        "def build_generator():\n",
        "  network = tf.keras.Sequential()\n",
        "\n",
        "  # 7x7x256\n",
        "  network.add(tf.keras.layers.Dense(units = 7*7*256, use_bias = False, input_shape=(100,)))\n",
        "  network.add(tf.keras.layers.BatchNormalization())\n",
        "  network.add(tf.keras.layers.LeakyReLU())\n",
        "\n",
        "  network.add(tf.keras.layers.Reshape((7, 7, 256)))\n",
        "\n",
        "  # 7x7x128\n",
        "  network.add(tf.keras.layers.Conv2DTranspose(filters=128, kernel_size = (5, 5), padding = 'same', use_bias = False))\n",
        "  network.add(tf.keras.layers.BatchNormalization())\n",
        "  network.add(tf.keras.layers.LeakyReLU())\n",
        "\n",
        "  # 14x14x64\n",
        "  network.add(tf.keras.layers.Conv2DTranspose(filters=64, kernel_size = (5, 5), padding = 'same', strides = (2, 2), use_bias = False))\n",
        "  network.add(tf.keras.layers.BatchNormalization())\n",
        "  network.add(tf.keras.layers.LeakyReLU())\n",
        "\n",
        "  # 28x28x1\n",
        "  network.add(layers.layers.Conv2DTranspose(filters=1, kernel_size = (5, 5), padding = 'same', strides = (2, 2), use_bias = False, activation='tanh'))\n",
        "\n",
        "  network.summary()\n",
        "  return network"
      ],
      "metadata": {
        "id": "l0U1MzJLO_mf"
      },
      "execution_count": 62,
      "outputs": []
    },
    {
      "cell_type": "code",
      "source": [
        "generator = build_generator()"
      ],
      "metadata": {
        "colab": {
          "base_uri": "https://localhost:8080/"
        },
        "id": "Qw9Yb5ViR9Qc",
        "outputId": "6d453603-8741-413f-f8c2-68b5994284d2"
      },
      "execution_count": 63,
      "outputs": [
        {
          "output_type": "stream",
          "name": "stdout",
          "text": [
            "Model: \"sequential_13\"\n",
            "_________________________________________________________________\n",
            " Layer (type)                Output Shape              Param #   \n",
            "=================================================================\n",
            " dense_4 (Dense)             (None, 12544)             1254400   \n",
            "                                                                 \n",
            " batch_normalization_6 (Batc  (None, 12544)            50176     \n",
            " hNormalization)                                                 \n",
            "                                                                 \n",
            " leaky_re_lu_6 (LeakyReLU)   (None, 12544)             0         \n",
            "                                                                 \n",
            " reshape_2 (Reshape)         (None, 7, 7, 256)         0         \n",
            "                                                                 \n",
            " conv2d_transpose_6 (Conv2DT  (None, 7, 7, 128)        819200    \n",
            " ranspose)                                                       \n",
            "                                                                 \n",
            " batch_normalization_7 (Batc  (None, 7, 7, 128)        512       \n",
            " hNormalization)                                                 \n",
            "                                                                 \n",
            " leaky_re_lu_7 (LeakyReLU)   (None, 7, 7, 128)         0         \n",
            "                                                                 \n",
            " conv2d_transpose_7 (Conv2DT  (None, 14, 14, 64)       204800    \n",
            " ranspose)                                                       \n",
            "                                                                 \n",
            " batch_normalization_8 (Batc  (None, 14, 14, 64)       256       \n",
            " hNormalization)                                                 \n",
            "                                                                 \n",
            " leaky_re_lu_8 (LeakyReLU)   (None, 14, 14, 64)        0         \n",
            "                                                                 \n",
            " conv2d_transpose_8 (Conv2DT  (None, 28, 28, 1)        1600      \n",
            " ranspose)                                                       \n",
            "                                                                 \n",
            "=================================================================\n",
            "Total params: 2,330,944\n",
            "Trainable params: 2,305,472\n",
            "Non-trainable params: 25,472\n",
            "_________________________________________________________________\n"
          ]
        }
      ]
    },
    {
      "cell_type": "code",
      "source": [
        "generator.input"
      ],
      "metadata": {
        "colab": {
          "base_uri": "https://localhost:8080/"
        },
        "id": "54UyKlatUtdI",
        "outputId": "e5344ec0-247b-403e-e9e8-2c9c24806ffc"
      },
      "execution_count": 64,
      "outputs": [
        {
          "output_type": "execute_result",
          "data": {
            "text/plain": [
              "<KerasTensor: shape=(None, 100) dtype=float32 (created by layer 'dense_4_input')>"
            ]
          },
          "metadata": {},
          "execution_count": 64
        }
      ]
    },
    {
      "cell_type": "code",
      "source": [
        "noise = tf.random.normal([1, 100])\n",
        "noise"
      ],
      "metadata": {
        "colab": {
          "base_uri": "https://localhost:8080/"
        },
        "id": "JQm63v50UwB3",
        "outputId": "c9ec75ba-ee80-43df-e955-e6d632e75afd"
      },
      "execution_count": 73,
      "outputs": [
        {
          "output_type": "execute_result",
          "data": {
            "text/plain": [
              "<tf.Tensor: shape=(1, 100), dtype=float32, numpy=\n",
              "array([[ 1.0400187 , -1.2008067 , -0.22066645,  1.5112499 , -0.46781278,\n",
              "         0.32316238, -1.5998002 ,  0.63144344, -1.3777511 ,  2.2527268 ,\n",
              "        -0.07488645,  0.20964251, -0.7635827 ,  0.32428288,  1.0134727 ,\n",
              "         0.869823  ,  0.37433538, -0.16828763,  0.7806123 ,  0.24098004,\n",
              "        -0.37952524,  1.0575837 , -1.2823244 , -0.79985034, -0.3495551 ,\n",
              "         0.3263692 ,  0.823095  ,  1.4329345 ,  1.5678135 ,  0.27895147,\n",
              "         0.4123059 ,  0.82960725,  0.28927696,  0.9637466 ,  1.1099583 ,\n",
              "         0.593252  ,  2.830766  , -0.6767016 ,  0.4212563 , -1.0425539 ,\n",
              "        -0.9556203 , -1.6280005 ,  1.09424   , -1.6491433 ,  0.44441625,\n",
              "        -0.46644133,  0.40265885,  0.8481925 ,  0.992683  , -1.8181082 ,\n",
              "         1.4111844 ,  0.7384365 ,  0.85577434, -1.9437225 ,  1.4085505 ,\n",
              "         0.13219552,  0.7402437 , -1.3049046 ,  1.6171471 ,  2.3096473 ,\n",
              "        -1.3227763 ,  1.4632473 , -1.0208273 , -0.80502343, -1.314633  ,\n",
              "         0.56035775, -0.5339367 ,  0.6603745 ,  0.49243507,  1.3129615 ,\n",
              "         0.8345211 ,  2.1658685 ,  0.59027964,  0.21209358,  2.0557096 ,\n",
              "         1.7855089 , -0.45929274, -1.8436681 ,  0.93813825, -0.64439493,\n",
              "         1.2647814 ,  1.6267538 ,  0.6271494 , -0.74014837, -0.08935917,\n",
              "        -0.08466492,  1.4285802 , -0.8946024 ,  0.8658962 , -1.3435736 ,\n",
              "         0.48034555, -0.06821326,  1.5770743 , -0.8257857 , -0.05356865,\n",
              "        -1.6739901 ,  0.3965032 , -1.2591474 , -0.38284734, -0.17740482]],\n",
              "      dtype=float32)>"
            ]
          },
          "metadata": {},
          "execution_count": 73
        }
      ]
    },
    {
      "cell_type": "code",
      "source": [
        "generated_image = generator(noise, training = False)"
      ],
      "metadata": {
        "id": "icmJCSXkU9lv"
      },
      "execution_count": 76,
      "outputs": []
    },
    {
      "cell_type": "code",
      "source": [
        "generated_image.shape"
      ],
      "metadata": {
        "colab": {
          "base_uri": "https://localhost:8080/"
        },
        "id": "lgEkgEkJVJRc",
        "outputId": "91c667c9-cff8-425b-aa56-bb31d90beeea"
      },
      "execution_count": 77,
      "outputs": [
        {
          "output_type": "execute_result",
          "data": {
            "text/plain": [
              "TensorShape([1, 28, 28, 1])"
            ]
          },
          "metadata": {},
          "execution_count": 77
        }
      ]
    },
    {
      "cell_type": "code",
      "source": [
        "plt.imshow(generated_image[0, :, :, 0], cmap = 'gray')"
      ],
      "metadata": {
        "colab": {
          "base_uri": "https://localhost:8080/",
          "height": 448
        },
        "id": "BUHkWZGOVNJW",
        "outputId": "75aa8f5b-20e3-4486-c273-c3d1a121118c"
      },
      "execution_count": 78,
      "outputs": [
        {
          "output_type": "execute_result",
          "data": {
            "text/plain": [
              "<matplotlib.image.AxesImage at 0x7c9ea0e1bd30>"
            ]
          },
          "metadata": {},
          "execution_count": 78
        },
        {
          "output_type": "display_data",
          "data": {
            "text/plain": [
              "<Figure size 640x480 with 1 Axes>"
            ],
            "image/png": "[encoded data removed]"
          },
          "metadata": {}
        }
      ]
    }
  ]
}